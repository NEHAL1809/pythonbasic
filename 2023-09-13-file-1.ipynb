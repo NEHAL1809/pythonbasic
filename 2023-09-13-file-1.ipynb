{
 "cells": [
  {
   "cell_type": "code",
   "execution_count": 2,
   "metadata": {
    "cocalc": {
     "outputs": {
      "0": {
       "name": "input",
       "opts": {
        "password": false,
        "prompt": "first variable"
       },
       "output_type": "stream",
       "value": "21"
      },
      "1": {
       "name": "input",
       "opts": {
        "password": false,
        "prompt": "second variable"
       },
       "output_type": "stream",
       "value": "69"
      }
     }
    },
    "collapsed": false
   },
   "outputs": [
    {
     "name": "stdout",
     "output_type": "stream",
     "text": "first variable 21"
    },
    {
     "name": "stdout",
     "output_type": "stream",
     "text": "second variable 69"
    },
    {
     "name": "stdout",
     "output_type": "stream",
     "text": [
      "swap value of both: 69 21\n"
     ]
    }
   ],
   "source": [
    "#swap value of int without using third variable\n",
    "\n",
    "x = input('first variable')\n",
    "y = input('second variable')\n",
    "x,y = y,x\n",
    "print(\"swap value of both:\", x , y)"
   ]
  },
  {
   "cell_type": "code",
   "execution_count": 7,
   "metadata": {
    "cocalc": {
     "outputs": {
      "0": {
       "name": "input",
       "opts": {
        "password": false,
        "prompt": "enter length"
       },
       "output_type": "stream",
       "value": "20"
      },
      "1": {
       "name": "input",
       "opts": {
        "password": false,
        "prompt": "enter breadth"
       },
       "output_type": "stream",
       "value": "30"
      }
     }
    },
    "collapsed": false
   },
   "outputs": [
    {
     "name": "stdout",
     "output_type": "stream",
     "text": "enter length 20"
    },
    {
     "name": "stdout",
     "output_type": "stream",
     "text": "enter breadth 30"
    },
    {
     "name": "stdout",
     "output_type": "stream",
     "text": [
      "600\n"
     ]
    }
   ],
   "source": [
    "#to find area of rectangle\n",
    "\n",
    "length = int(input(\"enter length\"))\n",
    "breadth = int(input(\"enter breadth\"))\n",
    "area = length * breadth\n",
    "print(area)"
   ]
  },
  {
   "cell_type": "code",
   "execution_count": 10,
   "metadata": {
    "cocalc": {
     "outputs": {
      "0": {
       "name": "input",
       "opts": {
        "password": false,
        "prompt": "enter celsius"
       },
       "output_type": "stream",
       "value": "2"
      }
     }
    },
    "collapsed": false
   },
   "outputs": [
    {
     "name": "stdout",
     "output_type": "stream",
     "text": "enter celsius 2"
    },
    {
     "name": "stdout",
     "output_type": "stream",
     "text": [
      "35.6\n"
     ]
    }
   ],
   "source": [
    "#to convert celsius to fahrenheit\n",
    "\n",
    "celsius = float(input('enter celsius'))\n",
    "fahrenheit = (celsius * 1.8) + 32\n",
    "print(fahrenheit)"
   ]
  },
  {
   "cell_type": "code",
   "execution_count": 12,
   "metadata": {
    "cocalc": {
     "outputs": {
      "0": {
       "name": "input",
       "opts": {
        "password": false,
        "prompt": "enter string"
       },
       "output_type": "stream",
       "value": "hello world"
      }
     }
    },
    "collapsed": false
   },
   "outputs": [
    {
     "name": "stdout",
     "output_type": "stream",
     "text": "enter string hello world"
    },
    {
     "data": {
      "text/plain": [
       "11"
      ]
     },
     "execution_count": 12,
     "metadata": {
     },
     "output_type": "execute_result"
    }
   ],
   "source": [
    "#to find length of string\n",
    "\n",
    "string = input(\"enter string\")\n",
    "len(string)"
   ]
  },
  {
   "cell_type": "raw",
   "metadata": {
    "collapsed": false
   },
   "source": [
   ]
  },
  {
   "cell_type": "code",
   "execution_count": 14,
   "metadata": {
    "cocalc": {
     "outputs": {
      "0": {
       "name": "input",
       "opts": {
        "password": false,
        "prompt": "enter the string"
       },
       "output_type": "stream",
       "value": "welcome to python"
      }
     }
    },
    "collapsed": false
   },
   "outputs": [
    {
     "name": "stdout",
     "output_type": "stream",
     "text": "enter the string welcome to python"
    },
    {
     "name": "stdout",
     "output_type": "stream",
     "text": [
      "5\n"
     ]
    }
   ],
   "source": [
    "#count number of (a,e,i,o,u) in a string\n",
    "\n",
    "string = input(\"enter the string\")\n",
    "count = 0\n",
    "for i in string:\n",
    "    if i == 'a' or i == 'e'  or i == 'i' or i == 'o' or i == 'u':\n",
    "        count = count + 1\n",
    "    else:\n",
    "        print\n",
    "print(count)"
   ]
  },
  {
   "cell_type": "code",
   "execution_count": 16,
   "metadata": {
    "collapsed": false
   },
   "outputs": [
    {
     "data": {
      "text/plain": [
       "'koobeton nohtyp ot emoclew'"
      ]
     },
     "execution_count": 16,
     "metadata": {
     },
     "output_type": "execute_result"
    }
   ],
   "source": [
    "#reverse the string using string slicing\n",
    "\n",
    "string = \"welcome to python notebook\"\n",
    "string[25:-27:-1]\n"
   ]
  },
  {
   "cell_type": "code",
   "execution_count": 27,
   "metadata": {
    "cocalc": {
     "outputs": {
      "0": {
       "name": "input",
       "opts": {
        "password": false,
        "prompt": "enter the string"
       },
       "output_type": "stream",
       "value": "hello"
      }
     }
    },
    "collapsed": false
   },
   "outputs": [
    {
     "name": "stdout",
     "output_type": "stream",
     "text": "enter the string hello"
    },
    {
     "name": "stdout",
     "output_type": "stream",
     "text": [
      "string is not palindrome\n"
     ]
    }
   ],
   "source": [
    "#to check the string is in palindrome\n",
    "\n",
    "a = input('enter the string')\n",
    "b = a[::-1]\n",
    "if a == b:\n",
    "    print(\"string is palindrome\")\n",
    "else:\n",
    "    print(\"string is not palindrome\")"
   ]
  },
  {
   "cell_type": "code",
   "execution_count": 35,
   "metadata": {
    "cocalc": {
     "outputs": {
      "0": {
       "name": "input",
       "opts": {
        "password": false,
        "prompt": ""
       },
       "output_type": "stream",
       "value": "hey python"
      }
     }
    },
    "collapsed": false
   },
   "outputs": [
    {
     "name": "stdout",
     "output_type": "stream",
     "text": " hey python"
    },
    {
     "name": "stdout",
     "output_type": "stream",
     "text": [
      "heypython\n"
     ]
    }
   ],
   "source": [
    "#to remove the space between the string\n",
    "\n",
    "a = input()\n",
    "b = a.replace(\" \",\"\")\n",
    "print(b)"
   ]
  },
  {
   "cell_type": "code",
   "execution_count": 0,
   "metadata": {
    "collapsed": false
   },
   "outputs": [
   ],
   "source": [
   ]
  },
  {
   "cell_type": "code",
   "execution_count": 0,
   "metadata": {
    "collapsed": false
   },
   "outputs": [
   ],
   "source": [
   ]
  }
 ],
 "metadata": {
  "kernelspec": {
   "argv": [
    "/usr/bin/python3",
    "-m",
    "ipykernel",
    "--HistoryManager.enabled=False",
    "--matplotlib=inline",
    "-c",
    "%config InlineBackend.figure_formats = set(['retina'])\nimport matplotlib; matplotlib.rcParams['figure.figsize'] = (12, 7)",
    "-f",
    "{connection_file}"
   ],
   "display_name": "Python 3 (system-wide)",
   "env": {
   },
   "language": "python",
   "metadata": {
    "cocalc": {
     "description": "Python 3 programming language",
     "priority": 100,
     "url": "https://www.python.org/"
    }
   },
   "name": "python3",
   "resource_dir": "/ext/jupyter/kernels/python3"
  },
  "language_info": {
   "codemirror_mode": {
    "name": "ipython",
    "version": 3
   },
   "file_extension": ".py",
   "mimetype": "text/x-python",
   "name": "python",
   "nbconvert_exporter": "python",
   "pygments_lexer": "ipython3",
   "version": "3.10.12"
  }
 },
 "nbformat": 4,
 "nbformat_minor": 4
}